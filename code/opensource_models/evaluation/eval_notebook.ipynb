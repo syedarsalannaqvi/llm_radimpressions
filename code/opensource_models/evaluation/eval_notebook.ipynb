{
 "cells": [
  {
   "cell_type": "code",
   "execution_count": 265,
   "metadata": {},
   "outputs": [],
   "source": [
    "import pandas as pd\n",
    "import numpy as np"
   ]
  },
  {
   "cell_type": "code",
   "execution_count": 266,
   "metadata": {},
   "outputs": [],
   "source": [
    "df = pd.read_csv(\"/PATH/OF/OUTPUT/final_outs.csv\")\n",
    "df_true = pd.read_csv(\"/PATH/OF/TEST/SET/df_test.csv\")"
   ]
  },
  {
   "cell_type": "code",
   "execution_count": 270,
   "metadata": {},
   "outputs": [],
   "source": [
    "classes = [\n",
    "    'any cancer',\n",
    "    'progression',\n",
    "    'response',\n",
    "    'brain',\n",
    "    'bone',\n",
    "    'adrenal',\n",
    "    'liver',\n",
    "    'lung',\n",
    "    'lymph node',\n",
    "    'peritoneal'\n",
    "]\n",
    "\n",
    "col_names = [\n",
    "        ['any_cancer', 'any cancer'],\n",
    "        ['progression', 'progression'],\n",
    "        ['response', 'response'],\n",
    "        ['brain_met', 'brain'],\n",
    "        ['bone_met', 'bone'],\n",
    "        ['adrenal_met', 'adrenal'],\n",
    "        ['liver_met', 'liver/hepatic'],\n",
    "        ['lung_met', 'lung'],\n",
    "        ['node_met', 'lymph'],\n",
    "        ['peritoneal_met', 'peritoneal']\n",
    "    ]"
   ]
  },
  {
   "cell_type": "code",
   "execution_count": 272,
   "metadata": {},
   "outputs": [
    {
     "name": "stdout",
     "output_type": "stream",
     "text": [
      "{'any cancer': 1, 'progression': 0, 'response': 1, 'brain': 0, 'bone': 1, 'adrenal': 0, 'liver': 0, 'lung': 0, 'lymph node': 0, 'peritoneal': 0}\n"
     ]
    }
   ],
   "source": [
    "gen_responses = []\n",
    "\n",
    "import re\n",
    "\n",
    "for i in range(len(df)):\n",
    "    exc_dict = {}\n",
    "    response = df[\"output\"][i].split(\"\\n\")[:11]\n",
    "    for c in classes:\n",
    "        for res in response:\n",
    "            if c in res.lower():\n",
    "                if int(re.findall(r'\\d+', res)[-1]) > 1:\n",
    "                    exc_dict[c] = None\n",
    "                else:\n",
    "                    exc_dict[c] = int(re.findall(r'\\d+', res)[-1])\n",
    "        if c not in exc_dict.keys():\n",
    "            exc_dict[c] = None\n",
    "    \n",
    "    assert len(exc_dict) == 10\n",
    "    gen_responses.append(exc_dict)\n",
    "\n",
    "print(gen_responses[4])\n"
   ]
  },
  {
   "cell_type": "code",
   "execution_count": 273,
   "metadata": {},
   "outputs": [],
   "source": [
    "any_cancer = [ele[\"any cancer\"] for ele in gen_responses]\n",
    "progression = [ele[\"progression\"] for ele in gen_responses]\n",
    "response = [ele[\"response\"] for ele in gen_responses]\n",
    "brain = [ele[\"brain\"] for ele in gen_responses]\n",
    "bone = [ele[\"bone\"] for ele in gen_responses]\n",
    "adrenal = [ele[\"adrenal\"] for ele in gen_responses]\n",
    "liver = [ele[\"liver\"] for ele in gen_responses]\n",
    "lung = [ele[\"lung\"] for ele in gen_responses]\n",
    "lymph_node = [ele[\"lymph node\"] for ele in gen_responses]\n",
    "peritoneal = [ele[\"peritoneal\"] for ele in gen_responses]\n",
    "\n",
    "\n",
    "results = [[a1,a2,a3,a4,a5,a6,a7,a8,a9,a10] for (a1,a2,a3,a4,a5,a6,a7,a8,a9,a10) in zip(any_cancer, progression, response, brain, bone, adrenal, liver, lung, lymph_node, peritoneal)]\n",
    "df_pred = pd.DataFrame(results, columns =[ 'any_cancer', 'progression',\n",
    "       'response', 'brain_met', 'bone_met', 'adrenal_met', 'liver_met',\n",
    "       'lung_met', 'node_met', 'peritoneal_met'])\n"
   ]
  },
  {
   "cell_type": "code",
   "execution_count": null,
   "metadata": {},
   "outputs": [],
   "source": [
    "null_mask = df_pred.isnull().any(axis=1)\n",
    "null_rows = df_pred[null_mask]\n",
    "null_rows"
   ]
  },
  {
   "cell_type": "code",
   "execution_count": 157,
   "metadata": {},
   "outputs": [],
   "source": [
    "from sklearn.metrics import classification_report\n",
    "import numpy as np\n",
    "import pandas as pd\n",
    "import json\n",
    "import os\n",
    "\n",
    "def report(df_true, df_pred, dir, col_names:list):\n",
    "    if not os.path.exists(dir):\n",
    "        os.makedirs(dir)\n",
    "    for cls in col_names:\n",
    "        res = classification_report(df_true[cls[0]], df_pred[cls[0]], digits=3, output_dict=True)\n",
    "        with open(f\"{dir}/{cls[0]}.json\", \"w\") as fp:\n",
    "            json.dump(res , fp)\n",
    "\n"
   ]
  },
  {
   "cell_type": "code",
   "execution_count": null,
   "metadata": {},
   "outputs": [],
   "source": [
    "dir = \"/PATH/OF/RESULTS/NAME\"\n",
    "                \n",
    "col_names = [\n",
    "        ['any_cancer', 'any cancer_predicted'],\n",
    "        ['progression', 'progression/worsening_predicted'],\n",
    "        ['response', 'response/improvement_predicted'],\n",
    "        ['brain_met', 'brain metastases_predicted'],\n",
    "        ['bone_met', 'bone/osseous metastases_predicted'],\n",
    "        ['adrenal_met', 'adrenal metastases_predicted'],\n",
    "        ['liver_met', 'liver/hepatic metastases_predicted'],\n",
    "        ['lung_met', 'lung/pulmonary metastases_predicted'],\n",
    "        ['node_met', 'lymph node/nodal metastases_predicted'],\n",
    "        ['peritoneal_met', 'peritoneal metastases_predicted']\n",
    "    ]\n",
    "\n",
    "report(df_true, df_pred, dir, col_names)"
   ]
  }
 ],
 "metadata": {
  "kernelspec": {
   "display_name": "Python 3",
   "language": "python",
   "name": "python3"
  },
  "language_info": {
   "codemirror_mode": {
    "name": "ipython",
    "version": 3
   },
   "file_extension": ".py",
   "mimetype": "text/x-python",
   "name": "python",
   "nbconvert_exporter": "python",
   "pygments_lexer": "ipython3",
   "version": "3.10.14"
  }
 },
 "nbformat": 4,
 "nbformat_minor": 2
}
